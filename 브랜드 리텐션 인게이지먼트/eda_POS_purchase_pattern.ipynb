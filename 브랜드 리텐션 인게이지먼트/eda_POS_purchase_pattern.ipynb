{
  "cells": [
    {
      "cell_type": "code",
      "execution_count": null,
      "id": "38f42700",
      "metadata": {
        "id": "38f42700"
      },
      "outputs": [],
      "source": [
        "import pandas as pd\n",
        "import numpy as np\n",
        "import seaborn as sns\n",
        "import gc\n",
        "import platform\n",
        "import re\n",
        "import missingno as msno\n",
        "%matplotlib inline\n",
        "from matplotlib import font_manager, rc\n",
        "import matplotlib.pyplot as plt\n",
        "import klib\n",
        "from matplotlib_venn import venn2\n",
        "\n",
        "from venn import venn\n",
        "\n",
        "path = \"c:/Windows/Fonts/malgun.ttf\"\n",
        "if platform.system() == 'Darwin':\n",
        "    rc('font', family='AppleGothic')\n",
        "rc('axes', unicode_minus=False)  \n",
        "\n",
        "color = sns.color_palette('pastel')[:10]\n",
        "pd.set_option('mode.chained_assignment',  None) # 경고 off\n",
        "\n",
        "import warnings\n",
        "warnings.filterwarnings(\"ignore\")"
      ]
    },
    {
      "cell_type": "code",
      "execution_count": null,
      "id": "743f2cc0",
      "metadata": {
        "id": "743f2cc0"
      },
      "outputs": [],
      "source": [
        "import pickle   \n",
        "with open('/Users/dli/ABCMART/final_pickle/order_notretail_final.pickle', 'rb') as f:\n",
        "    order = pickle.load(f)\n",
        "with open('/Users/dli/ABCMART/final_pickle/user_notretail_final.pickle', 'rb') as f:\n",
        "    user = pickle.load(f)"
      ]
    },
    {
      "cell_type": "code",
      "execution_count": null,
      "id": "3b5f64a4",
      "metadata": {
        "id": "3b5f64a4"
      },
      "outputs": [],
      "source": [
        "order['is_pos'] = 'order'\n",
        "order = order.reset_index(drop=True)\n",
        "a = order.query(\"카테고리2 == 'SHOE LACE' & 사이즈 =='120끈'\")\n",
        "a[\"사이즈\"] ='120'\n",
        "order.loc[a.index] = a"
      ]
    },
    {
      "cell_type": "code",
      "execution_count": null,
      "id": "07522dc9",
      "metadata": {
        "id": "07522dc9"
      },
      "outputs": [],
      "source": [
        "#오프라인(멤버)추출\n",
        "mem_off_order = order.query(\"구매처label == 'Offline'\")\n",
        "mem_off_order = mem_off_order.reset_index(drop=True) "
      ]
    },
    {
      "cell_type": "code",
      "execution_count": null,
      "id": "9dcfba89",
      "metadata": {
        "id": "9dcfba89"
      },
      "outputs": [],
      "source": [
        "# load\n",
        "import pickle\n",
        "with open('/Users/dli/pos.pickle', 'rb') as f:\n",
        "    pos = pickle.load(f)"
      ]
    },
    {
      "cell_type": "code",
      "execution_count": null,
      "id": "b75143e9",
      "metadata": {
        "id": "b75143e9"
      },
      "outputs": [],
      "source": [
        "L = pos.구매처.unique()\n",
        "L"
      ]
    },
    {
      "cell_type": "code",
      "execution_count": null,
      "id": "1e523cc0",
      "metadata": {
        "id": "1e523cc0"
      },
      "outputs": [],
      "source": [
        "# 동일한 구매처에서 비교하기 위해 구매처를 전처리해줍니다.\n",
        "L = pos.구매처.unique()\n",
        "mem_off_order=mem_off_order.query('구매처 in @L ')\n",
        "# 동일한 기간에서 비교하기 위해 기간을 전처리해줍니다.\n",
        "mem_off_order = mem_off_order.query('구매일자>= \"2022-01-01\"')\n",
        "mem_off_order = mem_off_order.reset_index(drop=True) "
      ]
    },
    {
      "cell_type": "code",
      "execution_count": null,
      "id": "c599e0ad",
      "metadata": {
        "id": "c599e0ad"
      },
      "outputs": [],
      "source": [
        "pos.구매일자.min(), pos.구매일자.max()"
      ]
    },
    {
      "cell_type": "code",
      "execution_count": null,
      "id": "1c952635",
      "metadata": {
        "id": "1c952635"
      },
      "outputs": [],
      "source": [
        "mem_off_order.구매일자.min(), mem_off_order.구매일자.max()"
      ]
    },
    {
      "cell_type": "code",
      "execution_count": null,
      "id": "e4835c09",
      "metadata": {
        "id": "e4835c09"
      },
      "outputs": [],
      "source": [
        "print(len(mem_off_order))\n",
        "print(len(pos))"
      ]
    },
    {
      "cell_type": "markdown",
      "id": "25c6840e",
      "metadata": {
        "id": "25c6840e"
      },
      "source": [
        "# 0. POS데이터 전처리\n"
      ]
    },
    {
      "cell_type": "code",
      "execution_count": null,
      "id": "0cdf7fe1",
      "metadata": {
        "id": "0cdf7fe1"
      },
      "outputs": [],
      "source": [
        "pos['구매일자'] = pos['구매일자'].apply(lambda x: pd.to_datetime(str(x), format='%Y-%m-%d'))\n",
        "pos['구매일자']=pos.구매일자.dt.strftime('%Y-%m-%d')\n",
        "pos['구매시간'] = pos['구매시간'].apply(lambda x: pd.to_datetime(str(x), format='%H%M'))\n",
        "pos['구매시간']=pos.구매시간.dt.strftime('%H:%M')"
      ]
    },
    {
      "cell_type": "code",
      "execution_count": null,
      "id": "f25aa22e",
      "metadata": {
        "id": "f25aa22e"
      },
      "outputs": [],
      "source": [
        "pos['정상가'] = pos['정상가'].apply(lambda x: -x if x<0 else x)\n",
        "pos['결제가'] = pos['결제가'].apply(lambda x: -x if x<0 else x)\n",
        "pos"
      ]
    },
    {
      "cell_type": "code",
      "execution_count": null,
      "id": "a1def8c2",
      "metadata": {
        "id": "a1def8c2"
      },
      "outputs": [],
      "source": [
        "pos['is_pos'] = 'pos'"
      ]
    },
    {
      "cell_type": "code",
      "execution_count": null,
      "id": "991fbd3c",
      "metadata": {
        "id": "991fbd3c"
      },
      "outputs": [],
      "source": [
        "L = pos.columns\n",
        "for i in L:\n",
        "    print(i, ':', pos[i].unique())"
      ]
    },
    {
      "cell_type": "code",
      "execution_count": null,
      "id": "96f49597",
      "metadata": {
        "id": "96f49597"
      },
      "outputs": [],
      "source": [
        "# PRODUCTS EXCEPT SHOES -> OTHER PRODUCTS\n",
        "a = pos.query(\"카테고리2 == 'PRODUCTS EXCEPT SHOES'\")\n",
        "a[\"카테고리2\"] ='OTHER PRODUCTS'\n",
        "pos.loc[a.index] = a\n",
        "#사이즈 전처리\n",
        "L=['270(XL)', '230(XS)','250(M)' ,'220(XXS)', '260(M)','240(S)','240(XS)','220(S)', '240(M)' ,'260(L)','270(L)','235(SM)' ,'280(XXL)','290(XXXL)' ,'280(XL)' ,'250(S)','230(XXS)']\n",
        "for i in L : \n",
        "    kk = pos[pos['사이즈'] == i]\n",
        "    kk[\"사이즈\"] = re.sub(r'\\([^)]*\\)', '',string = i)\n",
        "    pos.loc[kk.index,:] = kk\n"
      ]
    },
    {
      "cell_type": "code",
      "execution_count": null,
      "id": "04f04b5d",
      "metadata": {
        "id": "04f04b5d"
      },
      "outputs": [],
      "source": [
        "# save\n",
        "import pickle\n",
        "with open('pos.pickle', 'wb') as f:\n",
        "    pickle.dump(pos, f, pickle.HIGHEST_PROTOCOL)"
      ]
    },
    {
      "cell_type": "markdown",
      "id": "a17d782e",
      "metadata": {
        "id": "a17d782e"
      },
      "source": [
        "## pos데이터에 order가 있는지 확인"
      ]
    },
    {
      "cell_type": "code",
      "execution_count": null,
      "id": "9a953949",
      "metadata": {
        "id": "9a953949"
      },
      "outputs": [],
      "source": [
        "total=pd.concat([pos[['구매일자','구매처','구매시간','상품명','브랜드명','사이즈','결제가','is_pos']],mem_off_order[['구매일자','구매처','구매시간','상품명','브랜드명','사이즈','결제가','is_pos']]],axis=0)\n",
        "dupl = total.drop_duplicates(subset=['구매일자','구매처','구매시간','상품명','브랜드명','사이즈'], keep=False)\n",
        "dupl"
      ]
    },
    {
      "cell_type": "code",
      "execution_count": null,
      "id": "b8e70238",
      "metadata": {
        "id": "b8e70238"
      },
      "outputs": [],
      "source": [
        "total=pd.concat([pos[['구매일자','구매처','구매시간','상품명','브랜드명','사이즈','결제가','is_pos']],mem_off_order[['구매일자','구매처','구매시간','상품명','브랜드명','사이즈','결제가','is_pos']]],axis=0)\n",
        "dupl = total.drop_duplicates(subset=['구매일자','구매처','구매시간','상품명','브랜드명','사이즈'], keep=False)\n",
        "dupl"
      ]
    },
    {
      "cell_type": "code",
      "execution_count": null,
      "id": "2953e45f",
      "metadata": {
        "id": "2953e45f"
      },
      "outputs": [],
      "source": [
        "# 결제가를 아예 더해줌으로써 pos와 order 맞추기"
      ]
    },
    {
      "cell_type": "code",
      "execution_count": null,
      "id": "85c1863c",
      "metadata": {
        "id": "85c1863c"
      },
      "outputs": [],
      "source": [
        "pos = pos.reset_index()\n",
        "pos.rename(columns = {'index':\"pos_index\"}, inplace=True)\n",
        "\n",
        "mem_off_order = mem_off_order.reset_index()\n",
        "mem_off_order.rename(columns = {'index':\"order_index\"}, inplace=True)"
      ]
    },
    {
      "cell_type": "code",
      "execution_count": null,
      "id": "04f4ca63",
      "metadata": {
        "id": "04f4ca63"
      },
      "outputs": [],
      "source": [
        "pos_tmp = pos.groupby(['구매일자','구매시간','브랜드명','카테고리1','상품명','사이즈','구매처','is_pos'], as_index=False)['결제가'].sum()"
      ]
    },
    {
      "cell_type": "code",
      "execution_count": null,
      "id": "279351d7",
      "metadata": {
        "id": "279351d7"
      },
      "outputs": [],
      "source": [
        "order_tmp = pd.DataFrame(mem_off_order.groupby(['브랜드명','상품명','사이즈','구매일자','구매시간','구매처','is_pos','카테고리1'], as_index=False)['결제가'].sum())\n"
      ]
    },
    {
      "cell_type": "code",
      "execution_count": null,
      "id": "347bd81f",
      "metadata": {
        "scrolled": true,
        "id": "347bd81f"
      },
      "outputs": [],
      "source": [
        "total=pd.concat([pos_tmp ,order_tmp],axis=0)\n",
        "dupl = total[total.duplicated(subset=['구매일자','구매처','구매시간','상품명','브랜드명','사이즈','카테고리1'],keep=False)]\n",
        "left_pos = total[~total.duplicated(subset=['구매일자','구매처','구매시간','상품명','브랜드명','사이즈','카테고리1'],keep=False)]\n",
        "dupl = dupl.reset_index(drop=True)\n",
        "left_pos = left_pos.reset_index(drop=True)"
      ]
    },
    {
      "cell_type": "code",
      "execution_count": null,
      "id": "95a15c39",
      "metadata": {
        "id": "95a15c39"
      },
      "outputs": [],
      "source": [
        "for (k1, k2,k3,k4,k5,k6,k7), group in dupl.groupby(['구매일자','구매처','구매시간','상품명','브랜드명','사이즈','카테고리1']):\n",
        "    if group['결제가'].nunique() ==2 & len(group) >= 2: \n",
        "        if dupl.iloc[group.index[0]].is_pos == 'pos':\n",
        "            dupl.iloc[group.index[1],8] = dupl.iloc[group.index[0]].결제가\n",
        "        else :  # 0번째 인덱스가 order인경우\n",
        "            print(group.index)"
      ]
    },
    {
      "cell_type": "code",
      "execution_count": null,
      "id": "c7f10e8a",
      "metadata": {
        "id": "c7f10e8a"
      },
      "outputs": [],
      "source": [
        "new_pos = dupl.query(\"is_pos =='pos'\")\n",
        "new_order = dupl.query(\"is_pos =='order'\")"
      ]
    },
    {
      "cell_type": "code",
      "execution_count": null,
      "id": "a0fa6a89",
      "metadata": {
        "id": "a0fa6a89"
      },
      "outputs": [],
      "source": [
        "total=pd.concat([new_order,new_pos],axis=0)\n",
        "#pos와 order에서 ['구매일자','구매처','구매시간','상품명','브랜드명','사이즈']가 겹치는것 맨 처음걸 남기고 나머지는 모두 drop\n",
        "dupl = total[total.duplicated(subset=['구매일자','구매처','구매시간','상품명','브랜드명','사이즈','결제가','카테고리1'],keep=False)]\n",
        "dupl = dupl.reset_index(drop=True)\n",
        "\n",
        "for (k1, k2,k3,k4,k5,k6,k7), group in dupl.groupby(['구매일자','구매처','구매시간','상품명','브랜드명','사이즈','카테고리1']):\n",
        "    if group['결제가'].nunique() ==2  :\n",
        "        display(group.head())\n",
        "        break"
      ]
    },
    {
      "cell_type": "code",
      "execution_count": null,
      "id": "26efbae4",
      "metadata": {
        "id": "26efbae4"
      },
      "outputs": [],
      "source": [
        "L = list(new_order.상품명.unique())\n",
        "temp2 = pd.DataFrame(mem_off_order.query(\"상품명 in @L\").groupby(\"상품명\")['카테고리2'].agg([pd.Series.nunique, pd.Series.unique]))\n",
        "temp2.reset_index(inplace=True)\n",
        "temp2\n"
      ]
    },
    {
      "cell_type": "code",
      "execution_count": null,
      "id": "4728b403",
      "metadata": {
        "id": "4728b403"
      },
      "outputs": [],
      "source": [
        "temp2.loc[:,'unique'] = temp2['unique'].apply(lambda x : x[0])\n",
        "temp2"
      ]
    },
    {
      "cell_type": "code",
      "execution_count": null,
      "id": "ed93eaa0",
      "metadata": {
        "id": "ed93eaa0"
      },
      "outputs": [],
      "source": [
        "new_order = new_order.merge(temp2, how='left', on = '상품명')\n",
        "new_order"
      ]
    },
    {
      "cell_type": "code",
      "execution_count": null,
      "id": "af173a82",
      "metadata": {
        "id": "af173a82"
      },
      "outputs": [],
      "source": [
        "L = list(left_pos.상품명.unique())\n",
        "temp = pd.DataFrame(pos.query(\"상품명 in @L\").groupby(\"상품명\")['카테고리2'].agg([pd.Series.nunique, pd.Series.unique]))\n",
        "temp.reset_index(inplace=True)\n"
      ]
    },
    {
      "cell_type": "code",
      "execution_count": null,
      "id": "4ac11707",
      "metadata": {
        "id": "4ac11707"
      },
      "outputs": [],
      "source": [
        "temp.loc[:,'unique'] = temp['unique'].apply(lambda x : x[0])\n",
        "temp"
      ]
    },
    {
      "cell_type": "code",
      "execution_count": null,
      "id": "f9aaf000",
      "metadata": {
        "scrolled": true,
        "id": "f9aaf000"
      },
      "outputs": [],
      "source": [
        "left_pos = left_pos.merge(temp, how='left', on = '상품명')"
      ]
    },
    {
      "cell_type": "code",
      "execution_count": null,
      "id": "98d8f363",
      "metadata": {
        "id": "98d8f363"
      },
      "outputs": [],
      "source": [
        "left_pos.drop(columns = [\"nunique\"], inplace=True)\n",
        "left_pos.rename(columns = {'unique':'카테고리2'}, inplace=True)"
      ]
    },
    {
      "cell_type": "code",
      "execution_count": null,
      "id": "9fb8545c",
      "metadata": {
        "id": "9fb8545c"
      },
      "outputs": [],
      "source": [
        "new_order.drop(columns = [\"nunique\"], inplace=True)\n",
        "new_order.rename(columns = {'unique':'카테고리2'}, inplace=True)"
      ]
    },
    {
      "cell_type": "code",
      "execution_count": null,
      "id": "1ee74fa7",
      "metadata": {
        "id": "1ee74fa7"
      },
      "outputs": [],
      "source": [
        "# save final leftpos\n",
        "import pickle\n",
        "with open('left_pos_final.pickle', 'wb') as f:\n",
        "    pickle.dump(left_pos, f, pickle.HIGHEST_PROTOCOL)"
      ]
    },
    {
      "cell_type": "code",
      "execution_count": null,
      "id": "6c6b8a97",
      "metadata": {
        "id": "6c6b8a97"
      },
      "outputs": [],
      "source": [
        "# save final leftpos\n",
        "import pickle\n",
        "with open('new_order_final.pickle', 'wb') as f:\n",
        "    pickle.dump(new_order, f, pickle.HIGHEST_PROTOCOL)"
      ]
    },
    {
      "cell_type": "markdown",
      "id": "8b2544ca",
      "metadata": {
        "id": "8b2544ca"
      },
      "source": [
        "Finally, 겹치는 pos와 order구분함\n",
        "\n",
        "1. (pos, order 공통) 같은 구매처, 같은시간, 같은 상품 등 겹치는 데이터는 행이 중복으로 찍혀 있어서 결제가를 합침\n",
        "    - order는 고유번호를 무시하게 되었다. (pos와 비교하기 때문에 개인의 구매행태를 어차피 비교못해서 전처리 편의를 위해 합침)\n",
        "2. pos 결제가가 order보다 정확하였기 때문에 order와 pos의 중복을 확인한 결과 결제가를 제외한 모든게 같은데 결제가가 다르면 pos의 결제가로 order대체\n",
        "\n",
        " \n",
        "> new_pos : pos에 들어간 회원들의 결제정보   \n",
        "\n",
        "> new_order : order에 들어간 회원들의 결제정보  \n",
        "\n",
        "> left_pos : 그 외  "
      ]
    },
    {
      "cell_type": "markdown",
      "id": "83d36a42",
      "metadata": {
        "id": "83d36a42"
      },
      "source": [
        "# POS 데이터 요약통계값\n",
        "- 정상가, 판매가가 1억원이 넘어가는 이상치 발견 후 제거"
      ]
    },
    {
      "cell_type": "code",
      "execution_count": null,
      "id": "17320ab9",
      "metadata": {
        "id": "17320ab9"
      },
      "outputs": [],
      "source": [
        "#회원 데이터\n",
        "pos_num = left_pos.describe().T.reset_index()\n",
        "pos_cate = left_pos[[idx for idx , type_ in zip(left_pos.dtypes.index, left_pos.dtypes) if type_=='object']].describe().T.reset_index()"
      ]
    },
    {
      "cell_type": "code",
      "execution_count": null,
      "id": "d8959b92",
      "metadata": {
        "id": "d8959b92"
      },
      "outputs": [],
      "source": [
        "#이상치 제거전\n",
        "pos_num"
      ]
    },
    {
      "cell_type": "code",
      "execution_count": null,
      "id": "74a568ed",
      "metadata": {
        "id": "74a568ed"
      },
      "outputs": [],
      "source": [
        "#판매가 이상치\n",
        "sns.boxplot(left_pos['결제가'])"
      ]
    },
    {
      "cell_type": "code",
      "execution_count": null,
      "id": "c9f05d73",
      "metadata": {
        "scrolled": false,
        "id": "c9f05d73"
      },
      "outputs": [],
      "source": [
        "#order 결제가 기준으로 pos를 맞춰줍니다\n",
        "new_order.describe().T.reset_index()"
      ]
    },
    {
      "cell_type": "code",
      "execution_count": null,
      "id": "b05e7f7d",
      "metadata": {
        "id": "b05e7f7d"
      },
      "outputs": [],
      "source": [
        "#이상치 제거 후\n",
        "left_pos = left_pos[left_pos['결제가'] <= new_order['결제가'].max()].reset_index(drop= True)\n",
        "left_pos.describe().T.reset_index()"
      ]
    },
    {
      "cell_type": "code",
      "execution_count": null,
      "id": "a5bd4f54",
      "metadata": {
        "id": "a5bd4f54"
      },
      "outputs": [],
      "source": [
        "#판매가 이상치 제거\n",
        "sns.boxplot(left_pos['결제가'])"
      ]
    },
    {
      "cell_type": "code",
      "execution_count": null,
      "id": "6475db20",
      "metadata": {
        "id": "6475db20"
      },
      "outputs": [],
      "source": [
        "#회원 데이터\n",
        "pos_num = left_pos.describe().T.reset_index()\n",
        "pos_cate = left_pos[[idx for idx , type_ in zip(left_pos.dtypes.index, left_pos.dtypes) if type_=='object']].describe().T.reset_index()"
      ]
    },
    {
      "cell_type": "code",
      "execution_count": null,
      "id": "c7fef8ca",
      "metadata": {
        "id": "c7fef8ca"
      },
      "outputs": [],
      "source": [
        "# POS 데이터 요약통계값\n",
        "display(pos_num)\n",
        "display(pos_cate)"
      ]
    },
    {
      "cell_type": "code",
      "execution_count": null,
      "id": "41a8c821",
      "metadata": {
        "id": "41a8c821"
      },
      "outputs": [],
      "source": [
        "#회원 데이터\n",
        "order_num = new_order.describe().T.reset_index()\n",
        "order_cate = new_order[[idx for idx , type_ in zip(new_order.dtypes.index, new_order.dtypes) if type_=='object']].describe().T.reset_index()"
      ]
    },
    {
      "cell_type": "code",
      "execution_count": null,
      "id": "0e4ecafc",
      "metadata": {
        "id": "0e4ecafc"
      },
      "outputs": [],
      "source": [
        "# order 데이터 요약통계값\n",
        "display(order_num)\n",
        "display(order_cate)"
      ]
    },
    {
      "cell_type": "code",
      "execution_count": null,
      "id": "7018512c",
      "metadata": {
        "id": "7018512c"
      },
      "outputs": [],
      "source": [
        "# save final leftpos\n",
        "import pickle\n",
        "with open('left_pos_final.pickle', 'wb') as f:\n",
        "    pickle.dump(left_pos, f, pickle.HIGHEST_PROTOCOL)"
      ]
    },
    {
      "cell_type": "markdown",
      "source": [
        "# 하루당 평균 판매금액"
      ],
      "metadata": {
        "id": "DopvvOwZXrKL"
      },
      "id": "DopvvOwZXrKL"
    },
    {
      "cell_type": "code",
      "execution_count": null,
      "id": "41146ebb",
      "metadata": {
        "id": "41146ebb"
      },
      "outputs": [],
      "source": [
        "# pos 일별평균판매금액\n",
        "qq = pd.DataFrame(left_pos.groupby(\"구매일자\")['결제가'].sum())\n",
        "ww = pd.DataFrame(left_pos.reset_index().groupby(\"구매일자\")['index'].nunique())\n",
        "ww = ww.reset_index().rename(columns={\"index\": \"판매건수\"})\n",
        "tmp=pd.merge(qq,ww, on='구매일자', how='inner')\n",
        "\n",
        "print(\"POS 일일평균판매금액은\", np.round(qq['결제가'].mean(),0), \"원 입니다.\")\n",
        "\n",
        "# 멤버십 일자별 평균판매금액\n",
        "qq = pd.DataFrame(new_order.groupby(\"구매일자\")['결제가'].sum())\n",
        "ww = pd.DataFrame(new_order.reset_index().groupby(\"구매일자\")['index'].nunique())\n",
        "ww = ww.reset_index().rename(columns={\"index\": \"판매건수\"})\n",
        "tmp=pd.merge(qq,ww, on='구매일자', how='inner')\n",
        "print(\"멤버십 일일평균판매금액은\", np.round(qq['결제가'].mean(),0), \"원 입니다.\")"
      ]
    },
    {
      "cell_type": "markdown",
      "id": "255e9486",
      "metadata": {
        "id": "255e9486"
      },
      "source": [
        "# 하루당 평균 판매건수"
      ]
    },
    {
      "cell_type": "code",
      "execution_count": null,
      "id": "90d69e2e",
      "metadata": {
        "id": "90d69e2e"
      },
      "outputs": [],
      "source": [
        "#비멤버\n",
        "qq = pd.DataFrame(left_pos['구매일자'].value_counts())\n",
        "qq= qq.reset_index().rename(columns={\"구매일자\": \"판매건수\"})\n",
        "print(\"pos의 일일 평균 판매건수는 \" , np.round(qq[\"판매건수\"].mean(),2), \"건 입니다.\" )\n",
        "\n",
        "#멤버\n",
        "qq = pd.DataFrame(new_order['구매일자'].value_counts())\n",
        "qq= qq.reset_index().rename(columns={\"구매일자\": \"판매건수\"})\n",
        "print(\"멤버십 일일 평균 판매건수는 \" , np.round(qq[\"판매건수\"].mean(),2), \"건 입니다.\" )"
      ]
    },
    {
      "cell_type": "markdown",
      "id": "81459870",
      "metadata": {
        "id": "81459870"
      },
      "source": [
        "# 신발 결제주기\n",
        "\n",
        "\n",
        "- 하루동안 결제주기는?"
      ]
    },
    {
      "cell_type": "code",
      "execution_count": null,
      "id": "7b20b90c",
      "metadata": {
        "scrolled": true,
        "id": "7b20b90c"
      },
      "outputs": [],
      "source": [
        "left_pos1 = left_pos.query('카테고리1 == \"신발\"')\n",
        "qq = pd.DataFrame(left_pos1.groupby('구매일자')['구매시간'].max())\n",
        "qq = qq.reset_index().rename(columns={\"구매시간\": \"마지막구매시간\"})\n",
        "\n",
        "ww = pd.DataFrame(left_pos1.groupby('구매일자')['구매시간'].min())\n",
        "ww = ww.reset_index().rename(columns={\"구매시간\": \"최초구매시간\"})\n",
        "\n",
        "total_pos = qq.merge(ww, on ='구매일자',how='left')"
      ]
    },
    {
      "cell_type": "code",
      "execution_count": null,
      "id": "81d3ef1c",
      "metadata": {
        "id": "81d3ef1c"
      },
      "outputs": [],
      "source": [
        "total_pos[\"timediff\"] = pd.to_datetime(total_pos['마지막구매시간'].astype(str)) - pd.to_datetime(total_pos['최초구매시간'].astype(str))\n",
        "total_pos[\"timedelta_m\"]=total_pos[\"timediff\"].dt.total_seconds()/60\n",
        "total_pos"
      ]
    },
    {
      "cell_type": "code",
      "execution_count": null,
      "id": "fd6d7ef2",
      "metadata": {
        "id": "fd6d7ef2"
      },
      "outputs": [],
      "source": [
        "#left_pos\n",
        "qq = pd.DataFrame(left_pos['구매일자'].value_counts())\n",
        "qq= qq.reset_index().rename(columns={\"구매일자\": \"판매건수\", \"index\":'구매일자'})\n",
        "total_pos = total_pos.merge(qq, on ='구매일자', how ='left')\n",
        "# print(\"left_pos의 일일 평균 판매건수는 \" , np.round(qq[\"판매건수\"].mean(),2), \"개 입니다.\" )"
      ]
    },
    {
      "cell_type": "code",
      "execution_count": null,
      "id": "bbd4da3f",
      "metadata": {
        "id": "bbd4da3f"
      },
      "outputs": [],
      "source": [
        "total_pos['결제주기'] = total_pos['timedelta_m']*60/(total_pos['판매건수']-1) "
      ]
    },
    {
      "cell_type": "code",
      "execution_count": null,
      "id": "63f95e2b",
      "metadata": {
        "id": "63f95e2b"
      },
      "outputs": [],
      "source": [
        "total_pos['결제주기'].mean() "
      ]
    },
    {
      "cell_type": "code",
      "execution_count": null,
      "id": "01fc0b3a",
      "metadata": {
        "id": "01fc0b3a"
      },
      "outputs": [],
      "source": [
        "sns.histplot(total_pos['결제주기'])"
      ]
    },
    {
      "cell_type": "code",
      "execution_count": null,
      "id": "0d286f44",
      "metadata": {
        "id": "0d286f44"
      },
      "outputs": [],
      "source": [
        "# off_member\n",
        "qq = pd.DataFrame(new_order.groupby('구매일자')['구매시간'].max())\n",
        "qq = qq.reset_index().rename(columns={\"구매시간\": \"마지막구매시간\"})\n",
        "\n",
        "ww = pd.DataFrame(new_order.groupby('구매일자')['구매시간'].min())\n",
        "ww = ww.reset_index().rename(columns={\"구매시간\": \"최초구매시간\"})\n",
        "\n",
        "total = qq.merge(ww, on ='구매일자',how='left')"
      ]
    },
    {
      "cell_type": "code",
      "execution_count": null,
      "id": "131a7bb3",
      "metadata": {
        "id": "131a7bb3"
      },
      "outputs": [],
      "source": [
        "total[\"timediff\"] = pd.to_datetime(total['마지막구매시간'].astype(str)) - pd.to_datetime(total['최초구매시간'].astype(str))\n",
        "total[\"timedelta_m\"]=total[\"timediff\"].dt.total_seconds()/60\n",
        "total"
      ]
    },
    {
      "cell_type": "code",
      "execution_count": null,
      "id": "bc7e6915",
      "metadata": {
        "id": "bc7e6915"
      },
      "outputs": [],
      "source": [
        "# #멤버\n",
        "qq = pd.DataFrame(new_order['구매일자'].value_counts())\n",
        "qq= qq.reset_index().rename(columns={\"구매일자\": \"판매건수\", \"index\":'구매일자'})\n",
        "total = total.merge(qq, on ='구매일자', how ='left')"
      ]
    },
    {
      "cell_type": "code",
      "execution_count": null,
      "id": "cbbb108d",
      "metadata": {
        "id": "cbbb108d"
      },
      "outputs": [],
      "source": [
        "total['결제주기'] = total['timedelta_m']*60/(total['판매건수']-1) #"
      ]
    },
    {
      "cell_type": "code",
      "execution_count": null,
      "id": "5f9a58b7",
      "metadata": {
        "id": "5f9a58b7"
      },
      "outputs": [],
      "source": [
        "total['결제주기'].mean() "
      ]
    },
    {
      "cell_type": "code",
      "execution_count": null,
      "id": "05c2e0d7",
      "metadata": {
        "id": "05c2e0d7"
      },
      "outputs": [],
      "source": [
        "sns.distplot(total['결제주기'], color='r', label = '멤버')\n",
        "sns.distplot(total_pos['결제주기'], color = 'b', label='비멤버 + 멤버임을 밝히지 않은 멤버')\n",
        "plt.title(\"결제까지 걸리는 평균 시간 (초)\")\n",
        "plt.legend()\n",
        "plt.show()"
      ]
    },
    {
      "cell_type": "markdown",
      "id": "93cb621a",
      "metadata": {
        "id": "93cb621a"
      },
      "source": [
        "# 주요 구매 브랜드\n",
        "## 1.신발"
      ]
    },
    {
      "cell_type": "code",
      "execution_count": null,
      "id": "ad17f83c",
      "metadata": {
        "scrolled": true,
        "id": "ad17f83c"
      },
      "outputs": [],
      "source": [
        "#pos\n",
        "temp = left_pos.query(\"카테고리1 == '신발'\")\n",
        "total = pd.DataFrame(temp['브랜드명'].value_counts().sort_values(ascending=False)).rename(columns = {'고유번호':\"구매건수\"})\n",
        "percent = np.round((total/total['브랜드명'].sum()*100),2)\n",
        "percent = percent.rename(columns = {'브랜드명':'percent'})\n",
        "total = total.rename(columns = {'브랜드명':'count'})\n",
        "cat_pos = pd.concat([total, percent], axis =1, keys=[\"Total\",\"Percent\"])\n",
        "cat_pos[:10]"
      ]
    },
    {
      "cell_type": "code",
      "execution_count": null,
      "id": "e7363935",
      "metadata": {
        "scrolled": true,
        "id": "e7363935"
      },
      "outputs": [],
      "source": [
        "#멤버십\n",
        "temp = new_order.query(\"카테고리1 == '신발'\")\n",
        "total = pd.DataFrame(temp['브랜드명'].value_counts().sort_values(ascending=False)).rename(columns = {'고유번호':\"구매건수\"})\n",
        "percent = np.round((total/total['브랜드명'].sum()*100),2)\n",
        "percent = percent.rename(columns = {'브랜드명':'percent'})\n",
        "total = total.rename(columns = {'브랜드명':'count'})\n",
        "cat_w = pd.concat([total, percent], axis =1, keys=[\"Total\",\"Percent\"])\n",
        "cat_w[:10]"
      ]
    },
    {
      "cell_type": "code",
      "execution_count": null,
      "id": "d19b5fc4",
      "metadata": {
        "id": "d19b5fc4"
      },
      "outputs": [],
      "source": [
        "cat_w[\"Total\"][:10].plot(kind = 'bar', color = 'salmon')\n",
        "plt.title(\"멤버_신발브랜드별 구매건수\", fontsize=20)\n",
        "\n",
        "cat_pos[\"Total\"][:10].plot(kind = 'bar', color = 'salmon')\n",
        "plt.title(\"POS_신발브랜드별 구매건수\", fontsize=20)\n",
        "\n",
        "\n",
        "current_values = plt.gca().get_yticks()\n",
        "plt.gca().set_yticklabels(['{:.0f}'.format(x) for x in current_values])\n",
        "\n",
        "plt.show()"
      ]
    },
    {
      "cell_type": "markdown",
      "id": "1c0ecb36",
      "metadata": {
        "id": "1c0ecb36"
      },
      "source": [
        "# 주요구매카테고리 구매비율"
      ]
    },
    {
      "cell_type": "code",
      "execution_count": null,
      "id": "2db3f655",
      "metadata": {
        "id": "2db3f655"
      },
      "outputs": [],
      "source": [
        "print(\"카테고리1 별 구매비율 (POS)\")\n",
        "total = pd.DataFrame(left_pos[\"카테고리1\"].value_counts().sort_values(ascending=False)).rename(columns = {'고유번호':\"구매건수\"})\n",
        "percent = np.round((total/total['카테고리1'].sum()*100),2)\n",
        "percent = percent.rename(columns = {'카테고리1':'percent'})\n",
        "total = total.rename(columns = {'카테고리1':'count'})\n",
        "cat_w = pd.concat([total, percent], axis =1)\n",
        "cat_w"
      ]
    },
    {
      "cell_type": "code",
      "execution_count": null,
      "id": "c5bf550f",
      "metadata": {
        "id": "c5bf550f"
      },
      "outputs": [],
      "source": [
        "print(\"카테고리1 별 구매비율 (membership)\")\n",
        "total = pd.DataFrame(new_order[\"카테고리1\"].value_counts().sort_values(ascending=False)).rename(columns = {'고유번호':\"구매건수\"})\n",
        "percent = np.round((total/total['카테고리1'].sum()*100),2)\n",
        "percent = percent.rename(columns = {'카테고리1':'percent'})\n",
        "total = total.rename(columns = {'카테고리1':'count'})\n",
        "cat_w = pd.concat([total, percent], axis =1)\n",
        "cat_w"
      ]
    },
    {
      "cell_type": "code",
      "execution_count": null,
      "id": "f78a91c2",
      "metadata": {
        "id": "f78a91c2"
      },
      "outputs": [],
      "source": [
        "print(\"카테고리2 별 구매비율 (pos)\")\n",
        "total = pd.DataFrame(left_pos[\"카테고리2\"].value_counts().sort_values(ascending=False)).rename(columns = {'고유번호':\"구매건수\"})\n",
        "percent = np.round((total/total['카테고리2'].sum()*100),2)\n",
        "percent = percent.rename(columns = {'카테고리2':'percent'})\n",
        "total = total.rename(columns = {'카테고리2':'count'})\n",
        "cat_w = pd.concat([total, percent], axis =1)\n",
        "cat_w[:10]"
      ]
    },
    {
      "cell_type": "code",
      "execution_count": null,
      "id": "fb171d3c",
      "metadata": {
        "id": "fb171d3c"
      },
      "outputs": [],
      "source": [
        "print(\"카테고리2 별 구매비율 (멤버십)\")\n",
        "total = pd.DataFrame(new_order[\"카테고리2\"].value_counts().sort_values(ascending=False)).rename(columns = {'고유번호':\"구매건수\"})\n",
        "percent = np.round((total/total['카테고리2'].sum()*100),2)\n",
        "percent = percent.rename(columns = {'카테고리2':'percent'})\n",
        "total = total.rename(columns = {'카테고리2':'count'})\n",
        "cat_w = pd.concat([total, percent], axis =1)\n",
        "cat_w[:10]"
      ]
    },
    {
      "cell_type": "code",
      "execution_count": null,
      "id": "09172af1",
      "metadata": {
        "id": "09172af1"
      },
      "outputs": [],
      "source": [
        "color = sns.color_palette('pastel')[:10]\n",
        "a = left_pos[\"카테고리1\"].value_counts()\n",
        "b= new_order[\"카테고리1\"].value_counts()\n",
        "\n",
        "plt.figure(figsize = (20, 10))\n",
        "\n",
        "plt.subplot(1,2,1)\n",
        "plt.title(\"카테고리1\",fontsize=25)\n",
        "\n",
        "a.plot(kind = 'pie', subplots=True,autopct='%1.1f%%',textprops= {'fontsize' : 10}, colors=color)\n",
        "\n",
        "plt.subplot(1,2,2)\n",
        "plt.title(\"카테고리1\", fontsize=25)\n",
        "\n",
        "b.plot(kind = 'pie', autopct='%1.1f%%',textprops= {'fontsize' : 10}, colors = color)\n",
        "\n",
        "\n",
        "\n",
        "plt.suptitle('주요 구매 카테고리1 구매비율 (POS vs 멤버십)', fontsize = 30)\n",
        "plt.show()"
      ]
    },
    {
      "cell_type": "code",
      "execution_count": null,
      "id": "c69f97e4",
      "metadata": {
        "id": "c69f97e4"
      },
      "outputs": [],
      "source": [
        "color = sns.color_palette('pastel')[:10]\n",
        "a = left_pos[\"카테고리2\"].value_counts()\n",
        "b= new_order[\"카테고리2\"].value_counts()\n",
        "\n",
        "plt.figure(figsize = (20, 10))\n",
        "\n",
        "plt.subplot(1,2,1)\n",
        "plt.title(\"카테고리2\",fontsize=25)\n",
        "\n",
        "a.plot(kind = 'pie', subplots=True,autopct='%1.1f%%',textprops= {'fontsize' : 10}, colors=color)\n",
        "\n",
        "plt.subplot(1,2,2)\n",
        "plt.title(\"카테고리2\", fontsize=25)\n",
        "\n",
        "b.plot(kind = 'pie', autopct='%1.1f%%',textprops= {'fontsize' : 10}, colors = color)\n",
        "\n",
        "\n",
        "\n",
        "plt.suptitle('주요 구매 카테고리2 구매비율 (POS vs 멤버십)', fontsize = 30)\n",
        "plt.show()"
      ]
    },
    {
      "cell_type": "markdown",
      "id": "81badd6b",
      "metadata": {
        "id": "81badd6b"
      },
      "source": [
        "# 신발 카테고리 내 구매 비율\n",
        "## 신발_카테고리2"
      ]
    },
    {
      "cell_type": "code",
      "execution_count": null,
      "id": "0ac0f748",
      "metadata": {
        "id": "0ac0f748"
      },
      "outputs": [],
      "source": [
        "print(\"신발 카테고리 내 카테고리 2 별 구매비율 (POS)\")\n",
        "temp = left_pos.query(\"카테고리1 == '신발'\")\n",
        "total = pd.DataFrame(temp['카테고리2'].value_counts().sort_values(ascending=False)).rename(columns = {'카테고리2':\"구매건수\"})\n",
        "percent = np.round((total/total.구매건수.sum()*100),2)\n",
        "percent.rename(columns= {'구매건수':'percent'}, inplace=True)\n",
        "# percent.rename(columns= {'구매건수':'percent'}, inplace=True)\n",
        "cat_w = pd.concat([total, percent], axis =1)\n",
        "cat_w"
      ]
    },
    {
      "cell_type": "code",
      "execution_count": null,
      "id": "0b8d2654",
      "metadata": {
        "id": "0b8d2654"
      },
      "outputs": [],
      "source": [
        "print(\"신발 카테고리 내 카테고리 2 별 구매비율 (membership)\")\n",
        "temp = new_order.query(\"카테고리1 == '신발'\")\n",
        "total = pd.DataFrame(temp['카테고리2'].value_counts().sort_values(ascending=False)).rename(columns = {'카테고리2':\"구매건수\"})\n",
        "percent = np.round((total/total.구매건수.sum()*100),2)\n",
        "percent.rename(columns= {'구매건수':'percent'}, inplace=True)\n",
        "# percent.rename(columns= {'구매건수':'percent'}, inplace=True)\n",
        "cat_w = pd.concat([total, percent], axis =1)\n",
        "cat_w"
      ]
    },
    {
      "cell_type": "markdown",
      "id": "e625a6ef",
      "metadata": {
        "id": "e625a6ef"
      },
      "source": [
        "## 신발_브랜드"
      ]
    },
    {
      "cell_type": "code",
      "execution_count": null,
      "id": "c47e8a83",
      "metadata": {
        "id": "c47e8a83"
      },
      "outputs": [],
      "source": [
        "print(\"신발 카테고리 내 브랜드 별 구매비율 (POS)\")\n",
        "temp = left_pos.query(\"카테고리1 == '신발'\")\n",
        "total = pd.DataFrame(temp['브랜드명'].value_counts().sort_values(ascending=False)).rename(columns = {'브랜드명':\"구매건수\"})\n",
        "percent = np.round((total/total.구매건수.sum()*100),2)\n",
        "percent.rename(columns= {'구매건수':'percent'}, inplace=True)\n",
        "# percent.rename(columns= {'구매건수':'percent'}, inplace=True)\n",
        "cat_w = pd.concat([total, percent], axis =1)\n",
        "cat_w[:10]"
      ]
    },
    {
      "cell_type": "code",
      "execution_count": null,
      "id": "d70294d7",
      "metadata": {
        "id": "d70294d7"
      },
      "outputs": [],
      "source": [
        "print(\"신발 카테고리 내 브랜드 별 구매비율 (membership)\")\n",
        "temp = new_order.query(\"카테고리1 == '신발'\")\n",
        "total = pd.DataFrame(temp['브랜드명'].value_counts().sort_values(ascending=False)).rename(columns = {'브랜드명':\"구매건수\"})\n",
        "percent = np.round((total/total.구매건수.sum()*100),2)\n",
        "percent.rename(columns= {'구매건수':'percent'}, inplace=True)\n",
        "# percent.rename(columns= {'구매건수':'percent'}, inplace=True)\n",
        "cat_w = pd.concat([total, percent], axis =1)\n",
        "cat_w[:10]"
      ]
    },
    {
      "cell_type": "markdown",
      "id": "b17b6454",
      "metadata": {
        "id": "b17b6454"
      },
      "source": [
        "## 신발_상품명"
      ]
    },
    {
      "cell_type": "code",
      "execution_count": null,
      "id": "b9862854",
      "metadata": {
        "id": "b9862854"
      },
      "outputs": [],
      "source": [
        "print(\"신발 카테고리 내 상품 별 구매비율 (POS)\")\n",
        "temp = left_pos.query(\"카테고리1 == '신발'\")\n",
        "total = pd.DataFrame(temp['상품명'].value_counts().sort_values(ascending=False)).rename(columns = {'상품명':\"구매건수\"})\n",
        "percent = np.round((total/total.구매건수.sum()*100),2)\n",
        "percent.rename(columns= {'구매건수':'percent'}, inplace=True)\n",
        "# percent.rename(columns= {'구매건수':'percent'}, inplace=True)\n",
        "cat_w = pd.concat([total, percent], axis =1)\n",
        "cat_w[:10]"
      ]
    },
    {
      "cell_type": "code",
      "execution_count": null,
      "id": "b5c5effd",
      "metadata": {
        "id": "b5c5effd"
      },
      "outputs": [],
      "source": [
        "print(\"신발 카테고리 내 상품 별 구매비율 (membership)\")\n",
        "temp = new_order.query(\"카테고리1 == '신발'\")\n",
        "total = pd.DataFrame(temp['상품명'].value_counts().sort_values(ascending=False)).rename(columns = {'상품명':\"구매건수\"})\n",
        "percent = np.round((total/total.구매건수.sum()*100),2)\n",
        "percent.rename(columns= {'구매건수':'percent'}, inplace=True)\n",
        "# percent.rename(columns= {'구매건수':'percent'}, inplace=True)\n",
        "cat_w = pd.concat([total, percent], axis =1)\n",
        "cat_w[:10]"
      ]
    },
    {
      "cell_type": "markdown",
      "id": "7abc36b2",
      "metadata": {
        "id": "7abc36b2"
      },
      "source": [
        "# 신발 카테고리 외 구매 비율\n",
        "## 의류,용품_카테고리2"
      ]
    },
    {
      "cell_type": "code",
      "execution_count": null,
      "id": "6130ae37",
      "metadata": {
        "id": "6130ae37"
      },
      "outputs": [],
      "source": [
        "print(\"의류,용품 카테고리 내 카테고리 2 별 구매비율 (POS)\")\n",
        "temp = left_pos.query(\"카테고리1 != '신발'\")\n",
        "total = pd.DataFrame(temp['카테고리2'].value_counts().sort_values(ascending=False)).rename(columns = {'카테고리2':\"구매건수\"})\n",
        "percent = np.round((total/total.구매건수.sum()*100),2)\n",
        "percent.rename(columns= {'구매건수':'percent'}, inplace=True)\n",
        "# percent.rename(columns= {'구매건수':'percent'}, inplace=True)\n",
        "cat_w = pd.concat([total, percent], axis =1)\n",
        "cat_w"
      ]
    },
    {
      "cell_type": "code",
      "execution_count": null,
      "id": "89c51f6e",
      "metadata": {
        "id": "89c51f6e"
      },
      "outputs": [],
      "source": [
        "print(\"의류,용품 카테고리 내 카테고리 2 별 구매비율 (membership)\")\n",
        "temp = new_order.query(\"카테고리1 != '신발'\")\n",
        "total = pd.DataFrame(temp['카테고리2'].value_counts().sort_values(ascending=False)).rename(columns = {'카테고리2':\"구매건수\"})\n",
        "percent = np.round((total/total.구매건수.sum()*100),2)\n",
        "percent.rename(columns= {'구매건수':'percent'}, inplace=True)\n",
        "# percent.rename(columns= {'구매건수':'percent'}, inplace=True)\n",
        "cat_w = pd.concat([total, percent], axis =1)\n",
        "cat_w"
      ]
    },
    {
      "cell_type": "markdown",
      "id": "62fbe9ae",
      "metadata": {
        "id": "62fbe9ae"
      },
      "source": [
        "## 의류,용품_브랜드"
      ]
    },
    {
      "cell_type": "code",
      "execution_count": null,
      "id": "2452bca5",
      "metadata": {
        "id": "2452bca5"
      },
      "outputs": [],
      "source": [
        "print(\"의류,용품 카테고리 내 브랜드 별 구매비율 (POS)\")\n",
        "temp = left_pos.query(\"카테고리1 != '신발'\")\n",
        "total = pd.DataFrame(temp['브랜드명'].value_counts().sort_values(ascending=False)).rename(columns = {'브랜드명':\"구매건수\"})\n",
        "percent = np.round((total/total.구매건수.sum()*100),2)\n",
        "percent.rename(columns= {'구매건수':'percent'}, inplace=True)\n",
        "# percent.rename(columns= {'구매건수':'percent'}, inplace=True)\n",
        "cat_w = pd.concat([total, percent], axis =1)\n",
        "cat_w[:10]"
      ]
    },
    {
      "cell_type": "code",
      "execution_count": null,
      "id": "1268c0eb",
      "metadata": {
        "id": "1268c0eb"
      },
      "outputs": [],
      "source": [
        "print(\"의류,용품 카테고리 내 브랜드 별 구매비율 (membership)\")\n",
        "temp = new_order.query(\"카테고리1 != '신발'\")\n",
        "total = pd.DataFrame(temp['브랜드명'].value_counts().sort_values(ascending=False)).rename(columns = {'브랜드명':\"구매건수\"})\n",
        "percent = np.round((total/total.구매건수.sum()*100),2)\n",
        "percent.rename(columns= {'구매건수':'percent'}, inplace=True)\n",
        "# percent.rename(columns= {'구매건수':'percent'}, inplace=True)\n",
        "cat_w = pd.concat([total, percent], axis =1)\n",
        "cat_w[:10]"
      ]
    },
    {
      "cell_type": "markdown",
      "id": "ea3de7b0",
      "metadata": {
        "id": "ea3de7b0"
      },
      "source": [
        "## 의류,용품_상품명"
      ]
    },
    {
      "cell_type": "code",
      "execution_count": null,
      "id": "c7ddc711",
      "metadata": {
        "id": "c7ddc711"
      },
      "outputs": [],
      "source": [
        "print(\"의류,용품 카테고리 내 상품 별 구매비율 (POS)\")\n",
        "temp = left_pos.query(\"카테고리1 != '신발'\")\n",
        "total = pd.DataFrame(temp['상품명'].value_counts().sort_values(ascending=False)).rename(columns = {'상품명':\"구매건수\"})\n",
        "percent = np.round((total/total.구매건수.sum()*100),2)\n",
        "percent.rename(columns= {'구매건수':'percent'}, inplace=True)\n",
        "# percent.rename(columns= {'구매건수':'percent'}, inplace=True)\n",
        "cat_w = pd.concat([total, percent], axis =1)\n",
        "cat_w[:10]"
      ]
    },
    {
      "cell_type": "code",
      "execution_count": null,
      "id": "bb04eaa2",
      "metadata": {
        "id": "bb04eaa2"
      },
      "outputs": [],
      "source": [
        "print(\"의류,용품 카테고리 내 상품 별 구매비율 (membership)\")\n",
        "temp = new_order.query(\"카테고리1 != '신발'\")\n",
        "total = pd.DataFrame(temp['상품명'].value_counts().sort_values(ascending=False)).rename(columns = {'상품명':\"구매건수\"})\n",
        "percent = np.round((total/total.구매건수.sum()*100),2)\n",
        "percent.rename(columns= {'구매건수':'percent'}, inplace=True)\n",
        "# percent.rename(columns= {'구매건수':'percent'}, inplace=True)\n",
        "cat_w = pd.concat([total, percent], axis =1)\n",
        "cat_w[:10]"
      ]
    },
    {
      "cell_type": "markdown",
      "id": "34264515",
      "metadata": {
        "id": "34264515"
      },
      "source": [
        "# 구매처\n",
        "\n",
        "## 1. 총매출액\n",
        "### 1) POS 구매처 별 총매출액 순위"
      ]
    },
    {
      "cell_type": "code",
      "execution_count": null,
      "id": "c2ce5652",
      "metadata": {
        "scrolled": true,
        "id": "c2ce5652"
      },
      "outputs": [],
      "source": [
        "print(\"POS 구매처 별 매출액 순위\")\n",
        "temp = pd.DataFrame(left_pos.groupby(\"구매처\")[\"결제가\"].sum().sort_values(ascending=False)).reset_index()\n",
        "temp.index = temp.index+1\n",
        "temp = temp.rename(columns = {'결제가':'POS결제가'})\n",
        "temp"
      ]
    },
    {
      "cell_type": "markdown",
      "id": "5a3a40dc",
      "metadata": {
        "id": "5a3a40dc"
      },
      "source": [
        "### 2) 멤버십 구매처 별 총매출액 순위"
      ]
    },
    {
      "cell_type": "code",
      "execution_count": null,
      "id": "5afeb66f",
      "metadata": {
        "id": "5afeb66f"
      },
      "outputs": [],
      "source": [
        "print(\"멤버십 구매처 별 매출액 순위\")\n",
        "temp2 = pd.DataFrame(new_order.groupby(\"구매처\")[\"결제가\"].sum().sort_values(ascending=False)).reset_index()\n",
        "temp2.index = temp.index+1\n",
        "temp2 = temp2.rename(columns = {'결제가':'멤버십결제가'})\n",
        "temp2"
      ]
    },
    {
      "cell_type": "code",
      "execution_count": null,
      "id": "14fd7f99",
      "metadata": {
        "id": "14fd7f99"
      },
      "outputs": [],
      "source": [
        "temp = temp.merge(temp2, on='구매처')\n",
        "temp[\"총합\"]= temp['POS결제가']+temp['멤버십결제가']\n",
        "temp.loc[:,\"POS_결제비율\"]=np.round(temp['POS결제가']/(temp['총합']),2)*100\n",
        "temp.loc[:,\"멤버십_결제비율\"]=np.round(temp['멤버십결제가']/(temp['총합']),2)*100\n",
        "temp\n",
        "temp.drop(columns = [\"총합\"], inplace=True)"
      ]
    },
    {
      "cell_type": "markdown",
      "id": "e0663128",
      "metadata": {
        "id": "e0663128"
      },
      "source": [
        "### 3) 구매처 별 POS vs 멤버십 총매출액 비교"
      ]
    },
    {
      "cell_type": "code",
      "execution_count": null,
      "id": "c5ffb5d8",
      "metadata": {
        "id": "c5ffb5d8"
      },
      "outputs": [],
      "source": [
        "temp.set_index(\"구매처\", inplace=True)\n",
        "temp"
      ]
    },
    {
      "cell_type": "markdown",
      "id": "c67eb17c",
      "metadata": {
        "id": "c67eb17c"
      },
      "source": [
        "## 2. 평균매출액"
      ]
    },
    {
      "cell_type": "markdown",
      "id": "fa93df33",
      "metadata": {
        "id": "fa93df33"
      },
      "source": [
        "### 1) POS 구매처 별 평균매출액 순위"
      ]
    },
    {
      "cell_type": "code",
      "execution_count": null,
      "id": "67e0f7d3",
      "metadata": {
        "id": "67e0f7d3"
      },
      "outputs": [],
      "source": [
        "print(\"POS 구매처 별 매출액 순위\")\n",
        "temp = pd.DataFrame(left_pos.groupby(\"구매처\")[\"결제가\"].mean().sort_values(ascending=False)).reset_index()\n",
        "temp.index = temp.index+1\n",
        "temp = temp.rename(columns = {'결제가':'POS결제가'})\n",
        "temp"
      ]
    },
    {
      "cell_type": "markdown",
      "id": "bc4d7398",
      "metadata": {
        "id": "bc4d7398"
      },
      "source": [
        "### 2) 멤버십 구매처 별 평균매출액 순위"
      ]
    },
    {
      "cell_type": "code",
      "execution_count": null,
      "id": "bc8cf481",
      "metadata": {
        "id": "bc8cf481"
      },
      "outputs": [],
      "source": [
        "print(\"멤버십 구매처 별 매출액 순위\")\n",
        "temp2 = pd.DataFrame(new_order.groupby(\"구매처\")[\"결제가\"].mean().sort_values(ascending=False)).reset_index()\n",
        "temp2.index = temp.index+1\n",
        "temp2 = temp2.rename(columns = {'결제가':'멤버십결제가'})\n",
        "temp2"
      ]
    },
    {
      "cell_type": "code",
      "execution_count": null,
      "id": "8c2660fe",
      "metadata": {
        "id": "8c2660fe"
      },
      "outputs": [],
      "source": [
        "temp = temp.merge(temp2, on='구매처')\n",
        "temp[\"총합\"]= temp['POS결제가']+temp['멤버십결제가']\n",
        "temp.loc[:,\"POS_결제비율\"]=np.round(temp['POS결제가']/(temp['총합']),2)*100\n",
        "temp.loc[:,\"멤버십_결제비율\"]=np.round(temp['멤버십결제가']/(temp['총합']),2)*100\n",
        "temp\n",
        "temp.drop(columns = [\"총합\"], inplace=True)"
      ]
    },
    {
      "cell_type": "markdown",
      "id": "c1fe29dd",
      "metadata": {
        "id": "c1fe29dd"
      },
      "source": [
        "### 3) 구매처 별 POS vs 멤버십 평균매출액 비교"
      ]
    },
    {
      "cell_type": "code",
      "execution_count": null,
      "id": "23b4b8ed",
      "metadata": {
        "id": "23b4b8ed"
      },
      "outputs": [],
      "source": [
        "temp.set_index(\"구매처\", inplace=True)\n",
        "temp"
      ]
    },
    {
      "cell_type": "code",
      "execution_count": null,
      "id": "966aafee",
      "metadata": {
        "id": "966aafee"
      },
      "outputs": [],
      "source": [
        "left_pos[\"지점키워드\"] = '1'\n",
        "kk = left_pos[left_pos[\"구매처\"].str.contains(\"GS\")]\n",
        "kk[\"지점키워드\"] = \"GS\"\n",
        "left_pos.loc[kk.index,:] = kk\n",
        "\n",
        "kk = left_pos[left_pos[\"구매처\"].str.contains(\"MS\")]\n",
        "kk[\"지점키워드\"] = \"MS\"\n",
        "left_pos.loc[kk.index,:] = kk\n",
        "\n",
        "kk = left_pos[left_pos[\"구매처\"].str.contains(\"ST\")]\n",
        "kk[\"지점키워드\"] = \"ST\"\n",
        "left_pos.loc[kk.index,:] = kk\n",
        "\n",
        "kk = left_pos[left_pos[\"구매처\"].str.contains(\"SP\")]\n",
        "kk[\"지점키워드\"] = \"SP\"\n",
        "left_pos.loc[kk.index,:] = kk\n",
        "\n",
        "kk = left_pos[left_pos[\"구매처\"].str.contains(\"KM\")]\n",
        "kk[\"지점키워드\"] = \"KM\"\n",
        "left_pos.loc[kk.index,:] = kk\n",
        "\n",
        "\n",
        "kk = left_pos[left_pos[\"구매처\"].str.contains(\"OTS\")]\n",
        "kk[\"지점키워드\"] = \"OTS\"\n",
        "left_pos.loc[kk.index,:] = kk\n",
        "\n",
        "\n",
        "kk = left_pos[left_pos[\"구매처\"].str.contains(\"FS\")]\n",
        "kk[\"지점키워드\"] = \"FS\"\n",
        "left_pos.loc[kk.index,:] = kk\n",
        "\n",
        "kk = left_pos[left_pos[\"구매처\"].str.contains(\"ES\")]\n",
        "kk[\"지점키워드\"] = \"ES\"\n",
        "left_pos.loc[kk.index,:] = kk\n",
        "\n",
        "kk = left_pos[left_pos[\"구매처\"].str.contains(\"DS\")]\n",
        "kk[\"지점키워드\"] = \"DS\"\n",
        "left_pos.loc[kk.index,:] = kk\n",
        "\n",
        "kk = left_pos[left_pos[\"구매처\"].str.contains(\"APP\")]\n",
        "kk[\"지점키워드\"] = \"APP\"\n",
        "left_pos.loc[kk.index,:] = kk\n",
        "\n",
        "kk = left_pos[left_pos[\"구매처\"].str.contains(\"Mobile\")]\n",
        "kk[\"지점키워드\"] = \"Mobile\"\n",
        "left_pos.loc[kk.index,:] = kk\n",
        "\n",
        "kk = left_pos[left_pos[\"구매처\"].str.contains(\"PC\")]\n",
        "kk[\"지점키워드\"] = \"PC\"\n",
        "left_pos.loc[kk.index,:] = kk\n",
        "\n",
        "kk = left_pos[left_pos[\"구매처\"].str.contains(\"본사특판\")]\n",
        "kk[\"지점키워드\"] = \"본사특판\"\n",
        "left_pos.loc[kk.index,:] = kk\n"
      ]
    },
    {
      "cell_type": "code",
      "execution_count": null,
      "id": "8691d302",
      "metadata": {
        "id": "8691d302"
      },
      "outputs": [],
      "source": [
        "new_order[\"지점키워드\"] = '1'\n",
        "kk = new_order[new_order[\"구매처\"].str.contains(\"GS\")]\n",
        "kk[\"지점키워드\"] = \"GS\"\n",
        "new_order.loc[kk.index,:] = kk\n",
        "\n",
        "kk = new_order[new_order[\"구매처\"].str.contains(\"MS\")]\n",
        "kk[\"지점키워드\"] = \"MS\"\n",
        "new_order.loc[kk.index,:] = kk\n",
        "\n",
        "kk = new_order[new_order[\"구매처\"].str.contains(\"ST\")]\n",
        "kk[\"지점키워드\"] = \"ST\"\n",
        "new_order.loc[kk.index,:] = kk\n",
        "\n",
        "kk = new_order[new_order[\"구매처\"].str.contains(\"SP\")]\n",
        "kk[\"지점키워드\"] = \"SP\"\n",
        "new_order.loc[kk.index,:] = kk\n",
        "\n",
        "kk = new_order[new_order[\"구매처\"].str.contains(\"KM\")]\n",
        "kk[\"지점키워드\"] = \"KM\"\n",
        "new_order.loc[kk.index,:] = kk\n",
        "\n",
        "\n",
        "kk = new_order[new_order[\"구매처\"].str.contains(\"OTS\")]\n",
        "kk[\"지점키워드\"] = \"OTS\"\n",
        "new_order.loc[kk.index,:] = kk\n",
        "\n",
        "\n",
        "kk = new_order[new_order[\"구매처\"].str.contains(\"FS\")]\n",
        "kk[\"지점키워드\"] = \"FS\"\n",
        "new_order.loc[kk.index,:] = kk\n",
        "\n",
        "kk = new_order[new_order[\"구매처\"].str.contains(\"ES\")]\n",
        "kk[\"지점키워드\"] = \"ES\"\n",
        "new_order.loc[kk.index,:] = kk\n",
        "\n",
        "kk = new_order[new_order[\"구매처\"].str.contains(\"DS\")]\n",
        "kk[\"지점키워드\"] = \"DS\"\n",
        "new_order.loc[kk.index,:] = kk\n",
        "\n",
        "kk = new_order[new_order[\"구매처\"].str.contains(\"APP\")]\n",
        "kk[\"지점키워드\"] = \"APP\"\n",
        "new_order.loc[kk.index,:] = kk\n",
        "\n",
        "kk = new_order[new_order[\"구매처\"].str.contains(\"Mobile\")]\n",
        "kk[\"지점키워드\"] = \"Mobile\"\n",
        "new_order.loc[kk.index,:] = kk\n",
        "\n",
        "kk = new_order[new_order[\"구매처\"].str.contains(\"PC\")]\n",
        "kk[\"지점키워드\"] = \"PC\"\n",
        "new_order.loc[kk.index,:] = kk\n",
        "\n",
        "kk = new_order[new_order[\"구매처\"].str.contains(\"본사특판\")]\n",
        "kk[\"지점키워드\"] = \"본사특판\"\n",
        "new_order.loc[kk.index,:] = kk\n"
      ]
    },
    {
      "cell_type": "code",
      "execution_count": null,
      "id": "09d28b47",
      "metadata": {
        "id": "09d28b47"
      },
      "outputs": [],
      "source": [
        "temp = pd.concat([left_pos,new_order])\n",
        "temp"
      ]
    },
    {
      "cell_type": "code",
      "execution_count": null,
      "id": "68467bff",
      "metadata": {
        "id": "68467bff"
      },
      "outputs": [],
      "source": [
        "def to_percentage(x):\n",
        "    return str(round(x, 2)) + '%'"
      ]
    },
    {
      "cell_type": "code",
      "execution_count": null,
      "id": "d8a8a9b8",
      "metadata": {
        "id": "d8a8a9b8"
      },
      "outputs": [],
      "source": [
        "pivot=pd.pivot_table(temp, index=\"지점키워드\", columns =\"is_pos\", values=\"결제가\", aggfunc=\"sum\", fill_value=0)\n",
        "pivot=pivot.rename(columns = {\"order\":\"멤버십\" , \"pos\" : \"POS\"})\n",
        "for i in pivot.index:\n",
        "    total = pivot.T[i].sort_values(ascending=False)\n",
        "    percent = np.round((total/sum(total)*100),3)\n",
        "    cat_w = pd.concat([total, percent], axis =1, keys=[\"{}결제 중 멤버십 이용 비율\".format(i),\"Percent\"])\n",
        "    cat_w['Percent'] = cat_w['Percent'].apply(to_percentage)\n",
        "    display(cat_w)"
      ]
    },
    {
      "cell_type": "code",
      "execution_count": null,
      "id": "166a8c09",
      "metadata": {
        "id": "166a8c09"
      },
      "outputs": [],
      "source": [
        "total = temp.groupby([\"지점키워드\",\"is_pos\"])['결제가'].sum().sort_values(ascending=False)\n",
        "percent = np.round((total/sum(total)*100),3)\n",
        "cat_w = pd.concat([total, percent], axis =1, keys=[\"Total\",\"Percent\"])\n",
        "cat_w['Percent'] = cat_w['Percent'].apply(to_percentage)\n",
        "cat_w.reset_index(inplace=True)\n",
        "cat_w.index = cat_w.index+1\n",
        "display(cat_w[:20])"
      ]
    }
  ],
  "metadata": {
    "kernelspec": {
      "display_name": "Python 3 (ipykernel)",
      "language": "python",
      "name": "python3"
    },
    "language_info": {
      "codemirror_mode": {
        "name": "ipython",
        "version": 3
      },
      "file_extension": ".py",
      "mimetype": "text/x-python",
      "name": "python",
      "nbconvert_exporter": "python",
      "pygments_lexer": "ipython3",
      "version": "3.9.13"
    },
    "colab": {
      "provenance": []
    }
  },
  "nbformat": 4,
  "nbformat_minor": 5
}