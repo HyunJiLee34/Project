{
  "cells": [
    {
      "cell_type": "code",
      "execution_count": null,
      "metadata": {
        "colab": {
          "base_uri": "https://localhost:8080/"
        },
        "id": "sJIPWpzOHZ3p",
        "outputId": "a924a222-2479-4385-89ba-204d407af169"
      },
      "outputs": [
        {
          "name": "stdout",
          "output_type": "stream",
          "text": [
            "Collecting selenium\n",
            "  Downloading selenium-4.3.0-py3-none-any.whl (981 kB)\n",
            "Collecting trio-websocket~=0.9\n",
            "  Downloading trio_websocket-0.9.2-py3-none-any.whl (16 kB)\n",
            "Collecting urllib3[secure,socks]~=1.26\n",
            "  Downloading urllib3-1.26.9-py2.py3-none-any.whl (138 kB)\n",
            "Collecting trio~=0.17\n",
            "  Downloading trio-0.21.0-py3-none-any.whl (358 kB)\n",
            "Collecting wsproto>=0.14\n",
            "  Downloading wsproto-1.1.0-py3-none-any.whl (24 kB)\n",
            "Requirement already satisfied: async-generator>=1.10 in c:\\users\\user\\anaconda3\\lib\\site-packages (from trio-websocket~=0.9->selenium) (1.10)\n",
            "Requirement already satisfied: certifi; extra == \"secure\" in c:\\users\\user\\anaconda3\\lib\\site-packages (from urllib3[secure,socks]~=1.26->selenium) (2020.6.20)\n",
            "Requirement already satisfied: pyOpenSSL>=0.14; extra == \"secure\" in c:\\users\\user\\anaconda3\\lib\\site-packages (from urllib3[secure,socks]~=1.26->selenium) (19.1.0)\n",
            "Requirement already satisfied: cryptography>=1.3.4; extra == \"secure\" in c:\\users\\user\\anaconda3\\lib\\site-packages (from urllib3[secure,socks]~=1.26->selenium) (3.1.1)\n",
            "Requirement already satisfied: idna>=2.0.0; extra == \"secure\" in c:\\users\\user\\anaconda3\\lib\\site-packages (from urllib3[secure,socks]~=1.26->selenium) (2.10)\n",
            "Requirement already satisfied: PySocks!=1.5.7,<2.0,>=1.5.6; extra == \"socks\" in c:\\users\\user\\anaconda3\\lib\\site-packages (from urllib3[secure,socks]~=1.26->selenium) (1.7.1)\n",
            "Collecting sniffio\n",
            "  Downloading sniffio-1.2.0-py3-none-any.whl (10 kB)\n",
            "Requirement already satisfied: sortedcontainers in c:\\users\\user\\anaconda3\\lib\\site-packages (from trio~=0.17->selenium) (2.2.2)\n",
            "Collecting outcome\n",
            "  Downloading outcome-1.2.0-py2.py3-none-any.whl (9.7 kB)\n",
            "Requirement already satisfied: attrs>=19.2.0 in c:\\users\\user\\anaconda3\\lib\\site-packages (from trio~=0.17->selenium) (20.3.0)\n",
            "Requirement already satisfied: cffi>=1.14; os_name == \"nt\" and implementation_name != \"pypy\" in c:\\users\\user\\anaconda3\\lib\\site-packages (from trio~=0.17->selenium) (1.14.3)\n",
            "Collecting h11<1,>=0.9.0\n",
            "  Downloading h11-0.13.0-py3-none-any.whl (58 kB)\n",
            "Requirement already satisfied: six>=1.5.2 in c:\\users\\user\\anaconda3\\lib\\site-packages (from pyOpenSSL>=0.14; extra == \"secure\"->urllib3[secure,socks]~=1.26->selenium) (1.15.0)\n",
            "Requirement already satisfied: pycparser in c:\\users\\user\\anaconda3\\lib\\site-packages (from cffi>=1.14; os_name == \"nt\" and implementation_name != \"pypy\"->trio~=0.17->selenium) (2.20)\n",
            "Installing collected packages: sniffio, outcome, trio, h11, wsproto, trio-websocket, urllib3, selenium\n",
            "  Attempting uninstall: urllib3\n",
            "    Found existing installation: urllib3 1.25.11\n",
            "    Uninstalling urllib3-1.25.11:\n",
            "      Successfully uninstalled urllib3-1.25.11\n",
            "Successfully installed h11-0.13.0 outcome-1.2.0 selenium-4.3.0 sniffio-1.2.0 trio-0.21.0 trio-websocket-0.9.2 urllib3-1.26.9 wsproto-1.1.0\n"
          ]
        },
        {
          "name": "stderr",
          "output_type": "stream",
          "text": [
            "ERROR: After October 2020 you may experience errors when installing or updating packages. This is because pip will change the way that it resolves dependency conflicts.\n",
            "\n",
            "We recommend you use --use-feature=2020-resolver to test your packages with the new resolver before it becomes the default.\n",
            "\n",
            "conda 4.12.0 requires ruamel_yaml_conda>=0.11.14, which is not installed.\n",
            "requests 2.24.0 requires urllib3!=1.25.0,!=1.25.1,<1.26,>=1.21.1, but you'll have urllib3 1.26.9 which is incompatible.\n",
            "'apt'은(는) 내부 또는 외부 명령, 실행할 수 있는 프로그램, 또는\n",
            "배치 파일이 아닙니다.\n"
          ]
        }
      ],
      "source": [
        "!pip install selenium\n",
        "!apt install chromium-chromedriver"
      ]
    },
    {
      "cell_type": "code",
      "execution_count": null,
      "metadata": {
        "id": "mCKQCRmi0u6j"
      },
      "outputs": [],
      "source": [
        "import selenium\n",
        "from selenium import webdriver\n",
        "from selenium.webdriver.common.keys import Keys"
      ]
    },
    {
      "cell_type": "code",
      "execution_count": null,
      "metadata": {
        "id": "-NyNiv06Hflh"
      },
      "outputs": [],
      "source": [
        "import requests\n",
        "from selenium import webdriver\n",
        "from selenium.webdriver.common.keys import Keys\n",
        "from selenium.webdriver.support.ui import WebDriverWait\n",
        "from selenium.webdriver.support import expected_conditions as EC\n",
        "from selenium.webdriver.common.by import By\n",
        "from selenium.webdriver.common.keys import Keys\n",
        "import time\n",
        "from time import sleep\n",
        "import random\n",
        "\n",
        "\n",
        "# Data Preprocessing Package\n",
        "import re                       #정규식\n",
        "import numpy as np\n",
        "import pandas as pd\n",
        "import os   "
      ]
    },
    {
      "cell_type": "code",
      "execution_count": null,
      "metadata": {
        "id": "5kREfGkBHo_l"
      },
      "outputs": [],
      "source": [
        "#옵션없는 경우\n",
        "driver = webdriver.Chrome()"
      ]
    },
    {
      "cell_type": "code",
      "execution_count": null,
      "metadata": {
        "id": "G-zMws9C0u6k",
        "outputId": "02d98045-d8f3-4ff9-ac8b-ebe9420371c9"
      },
      "outputs": [
        {
          "name": "stderr",
          "output_type": "stream",
          "text": [
            "<ipython-input-69-5ce4a29be791>:6: DeprecationWarning: use options instead of chrome_options\n",
            "  driver = webdriver.Chrome('chromedriver',chrome_options=chrome_options)\n"
          ]
        }
      ],
      "source": [
        "#  브라우저 열기 옵션 넣기\n",
        "chrome_options = webdriver.ChromeOptions()\n",
        "chrome_options.add_argument('start-maximized') #창최대화\n",
        "# options.add_argument('window-size=1920,1080') #윈도우 사이즈 설정\n",
        "# options.add_argument('headless') #크롬 탭 띄우지 않음\n",
        "driver = webdriver.Chrome('chromedriver',chrome_options=chrome_options)"
      ]
    },
    {
      "cell_type": "code",
      "execution_count": null,
      "metadata": {
        "id": "-TdILdq7Hs5K"
      },
      "outputs": [],
      "source": [
        "url = 'https://play.google.com/store/apps/details?id=viva.republica.toss&hl=ko&gl=US' #크롤링주소\n",
        "# 페이지 열기\n",
        "driver.get(url)\n",
        "# 페이지 로딩 대기\n",
        "wait = WebDriverWait(driver, 5)"
      ]
    },
    {
      "cell_type": "code",
      "execution_count": null,
      "metadata": {
        "colab": {
          "base_uri": "https://localhost:8080/",
          "height": 241
        },
        "id": "HrzrmDCUJQ4j",
        "outputId": "97e436f9-91f3-46da-e6d0-c44c6cefbbd9",
        "scrolled": true
      },
      "outputs": [
        {
          "name": "stdout",
          "output_type": "stream",
          "text": [
            "업데이트 후 해외사용, 인증불가/ 안녕하세요. 토스를 몇 년 째 잘 사용해오고 있습니다. 이민 후 지웠다가 이번에 한국에 잠시 들어갔을 때 한국폰번호가 생겨서 다시 깔아서 여태 잘 사용했는데요, 돌아오면서 번호해지를 하였습니다. 업데이트 이후 한국번호가 없어서 인증을 할 수 없습니다. 한국카드는 있지만 받을 수 있는 전화번호가 없구요... 주식이랑 모든 걸 거기서 이용중인데 방법이 있을까요?\n",
            "한국에서 이용하다가 해외 거주자라 다시 돌아왔는데요. 폰번호 해지되서 이용이 안됐어요. 문의 넣어도 한국폰번호 없으면 이용이 안된다고 딱 짤라 말씀하시길래, 일부러 한국 유심카드 사서 미국으로 우편 받았습니다. 근데 본인인증 문자로 받아서 진행하려는데 본인인증 전화도 해야되네요? 왜 이렇게까지 하는거죠? 해외에 살면 한국 유심칩 있어도 국제전화 수신이 안되거든요. 문자로 인증하면 됐지 진짜 이거때문에 약정걸어서 유심까지 샀는데 짜증나서 미치겠습니다.\n",
            "편하고 좋습니다! 오래전부터 계속 써왔고요! 토스 증권을 처음 하게 되었는데 다른 mts처럼 바탕화면에 위젯이나 상단바 위젯을 만들 수 있으면 좋겠습니다! 또 만보기 상단 바에서 바로 증권으로 넘어갈 수 있는 기능도 있으면 좋을 것 같네요 홈 눌러서 증권으로 가려니까 살짝 애매합니다!\n"
          ]
        }
      ],
      "source": [
        "#리뷰\n",
        "reviews=driver.find_elements(by=By.XPATH, value = '//div[@class=\"h3YV2d\"]')\n",
        "for review in reviews :\n",
        "    print(review.text)"
      ]
    },
    {
      "cell_type": "code",
      "execution_count": null,
      "metadata": {
        "id": "sIh91L8f0u6l",
        "outputId": "bce82737-8d94-4fe9-b1b9-e8f1e94e1dba"
      },
      "outputs": [
        {
          "data": {
            "text/plain": [
              "3"
            ]
          },
          "execution_count": 13,
          "metadata": {},
          "output_type": "execute_result"
        }
      ],
      "source": [
        "len(reviews)"
      ]
    },
    {
      "cell_type": "code",
      "execution_count": null,
      "metadata": {
        "id": "hd4GLri7QRdq"
      },
      "outputs": [],
      "source": [
        "#날짜 using class name\n",
        "dates = driver.find_elements_by_class_name('bp9Aid')\n",
        "for date in dates :\n",
        "    print(date.text)"
      ]
    },
    {
      "cell_type": "code",
      "execution_count": null,
      "metadata": {
        "colab": {
          "base_uri": "https://localhost:8080/"
        },
        "id": "NivK3cFGTMHk",
        "outputId": "5bd1fa98-84ec-40c0-f4e7-d9c281498f2d"
      },
      "outputs": [
        {
          "name": "stderr",
          "output_type": "stream",
          "text": [
            "/usr/local/lib/python3.7/dist-packages/ipykernel_launcher.py:2: DeprecationWarning: find_elements_by_class_name is deprecated. Please use find_elements(by=By.CLASS_NAME, value=name) instead\n",
            "  \n"
          ]
        },
        {
          "name": "stdout",
          "output_type": "stream",
          "text": [
            "별표 5개 만점에 4개를 받았습니다.\n",
            "별표 5개 만점에 2개를 받았습니다.\n",
            "별표 5개 만점에 4개를 받았습니다.\n"
          ]
        }
      ],
      "source": [
        "#별점\n",
        "stargrades = driver.find_elements_by_class_name('iXRFPc')\n",
        "for stargrade in stargrades :\n",
        "    print(stargrade.get_attribute('aria-label')) #별점은 aria-label형태로 되어있기때문에"
      ]
    },
    {
      "cell_type": "code",
      "execution_count": null,
      "metadata": {
        "id": "aSBjrcw-cGh6"
      },
      "outputs": [],
      "source": [
        "##리뷰전체보기클릭에 에러가 계속났다. 내가 쓴 방법은 아래와 같다\n",
        "# error Message: element click intercepted\n",
        "# driver.find_element_by_xpath('//span[@class=\"VfPpkd-vQzf8d\"]').click()\n"
      ]
    },
    {
      "cell_type": "code",
      "execution_count": null,
      "metadata": {
        "scrolled": true,
        "id": "ExqMlFxT0u6m"
      },
      "outputs": [],
      "source": [
        "# 스크롤 최하단으로 내리기\n",
        "driver.execute_script(\"window.scrollTo(0, document.body.scrollHeight);\")\n",
        "#리뷰전체보기클릭\n",
        "spread_review = driver.find_element(by=By.XPATH, value = '/html/body/c-wiz[2]/div/div/div[1]/div[2]/div/div[1]/c-wiz[4]/section/div/div/div[5]/div/div/button')\n",
        "isTrue = spread_review.is_displayed()\n",
        "if isTrue :\n",
        "    driver.execute_script(\"arguments[0].click();\", spread_review)\n",
        "    time.sleep(1.5)"
      ]
    },
    {
      "cell_type": "code",
      "execution_count": null,
      "metadata": {
        "id": "BtHTSrMY0u6m"
      },
      "outputs": [],
      "source": [
        "all_reviews = driver.find_element(by=By.XPATH, value ='//*[@id=\"yDmH0d\"]/div[4]/div[2]/div/div/div/div/div[2]')\n",
        "\n",
        "for i in range(10):\n",
        "    driver.execute_script('arguments[0].scrollTop = arguments[0].scrollHeight', all_reviews)\n",
        "    time.sleep(3) "
      ]
    },
    {
      "cell_type": "code",
      "execution_count": null,
      "metadata": {
        "colab": {
          "base_uri": "https://localhost:8080/",
          "height": 1000
        },
        "id": "10SOcEMSHHJc",
        "outputId": "b377b868-84a4-49d9-f28c-21b90c2640ef"
      },
      "outputs": [
        {
          "name": "stdout",
          "output_type": "stream",
          "text": [
            "토스 앱 리뷰 수집 완료\n"
          ]
        },
        {
          "data": {
            "text/html": [
              "<div>\n",
              "<style scoped>\n",
              "    .dataframe tbody tr th:only-of-type {\n",
              "        vertical-align: middle;\n",
              "    }\n",
              "\n",
              "    .dataframe tbody tr th {\n",
              "        vertical-align: top;\n",
              "    }\n",
              "\n",
              "    .dataframe thead th {\n",
              "        text-align: right;\n",
              "    }\n",
              "</style>\n",
              "<table border=\"1\" class=\"dataframe\">\n",
              "  <thead>\n",
              "    <tr style=\"text-align: right;\">\n",
              "      <th></th>\n",
              "      <th>날짜</th>\n",
              "      <th>리뷰</th>\n",
              "      <th>별점</th>\n",
              "    </tr>\n",
              "  </thead>\n",
              "  <tbody>\n",
              "    <tr>\n",
              "      <th>0</th>\n",
              "      <td></td>\n",
              "      <td></td>\n",
              "      <td>별표 5개 만점에 4개를 받았습니다.</td>\n",
              "    </tr>\n",
              "    <tr>\n",
              "      <th>1</th>\n",
              "      <td></td>\n",
              "      <td></td>\n",
              "      <td>별표 5개 만점에 2개를 받았습니다.</td>\n",
              "    </tr>\n",
              "    <tr>\n",
              "      <th>2</th>\n",
              "      <td></td>\n",
              "      <td></td>\n",
              "      <td>별표 5개 만점에 5개를 받았습니다.</td>\n",
              "    </tr>\n",
              "    <tr>\n",
              "      <th>3</th>\n",
              "      <td>2022년 1월 4일</td>\n",
              "      <td>업데이트 후 해외사용, 인증불가/ 안녕하세요. 토스를 몇 년 째 잘 사용해오고 있습...</td>\n",
              "      <td>별표 5개 만점에 4개를 받았습니다.</td>\n",
              "    </tr>\n",
              "    <tr>\n",
              "      <th>4</th>\n",
              "      <td>2022년 3월 23일</td>\n",
              "      <td>한국에서 이용하다가 해외 거주자라 다시 돌아왔는데요. 폰번호 해지되서 이용이 안됐어...</td>\n",
              "      <td>별표 5개 만점에 2개를 받았습니다.</td>\n",
              "    </tr>\n",
              "    <tr>\n",
              "      <th>...</th>\n",
              "      <td>...</td>\n",
              "      <td>...</td>\n",
              "      <td>...</td>\n",
              "    </tr>\n",
              "    <tr>\n",
              "      <th>358</th>\n",
              "      <td>2022년 6월 18일</td>\n",
              "      <td>토스 카드 주소 잘못해서 다시 할려고 했는데 4000원을 내야해서 못하고 있네요ㅠ ...</td>\n",
              "      <td>별표 5개 만점에 5개를 받았습니다.</td>\n",
              "    </tr>\n",
              "    <tr>\n",
              "      <th>359</th>\n",
              "      <td>2022년 6월 21일</td>\n",
              "      <td>정말 잘 사용하고있어요 편리하고 자산과 소비가 한눈에 보여서 관리하기 편합니다! 나...</td>\n",
              "      <td>별표 5개 만점에 5개를 받았습니다.</td>\n",
              "    </tr>\n",
              "    <tr>\n",
              "      <th>360</th>\n",
              "      <td>2022년 6월 10일</td>\n",
              "      <td>다 좋은데 통장 순서 변경하기에서 토스뱅크 순서가 고정이 되있는데 이것도 변경 할 ...</td>\n",
              "      <td>별표 5개 만점에 4개를 받았습니다.</td>\n",
              "    </tr>\n",
              "    <tr>\n",
              "      <th>361</th>\n",
              "      <td>2022년 6월 13일</td>\n",
              "      <td>잘사용하고 있어요! 편하고, 포인트모으기도 좋고.(:보안안전에 항상 유의 부탁드립니다!)</td>\n",
              "      <td>별표 5개 만점에 5개를 받았습니다.</td>\n",
              "    </tr>\n",
              "    <tr>\n",
              "      <th>362</th>\n",
              "      <td>2022년 1월 1일</td>\n",
              "      <td>잘 되다가 최근부터 내역이 동기화가 바로 안되는거같네요 돈을 옮겼는데 한쪽에만 표시...</td>\n",
              "      <td>별표 5개 만점에 3개를 받았습니다.</td>\n",
              "    </tr>\n",
              "  </tbody>\n",
              "</table>\n",
              "<p>363 rows × 3 columns</p>\n",
              "</div>"
            ],
            "text/plain": [
              "               날짜                                                 리뷰  \\\n",
              "0                                                                      \n",
              "1                                                                      \n",
              "2                                                                      \n",
              "3     2022년 1월 4일  업데이트 후 해외사용, 인증불가/ 안녕하세요. 토스를 몇 년 째 잘 사용해오고 있습...   \n",
              "4    2022년 3월 23일  한국에서 이용하다가 해외 거주자라 다시 돌아왔는데요. 폰번호 해지되서 이용이 안됐어...   \n",
              "..            ...                                                ...   \n",
              "358  2022년 6월 18일  토스 카드 주소 잘못해서 다시 할려고 했는데 4000원을 내야해서 못하고 있네요ㅠ ...   \n",
              "359  2022년 6월 21일  정말 잘 사용하고있어요 편리하고 자산과 소비가 한눈에 보여서 관리하기 편합니다! 나...   \n",
              "360  2022년 6월 10일  다 좋은데 통장 순서 변경하기에서 토스뱅크 순서가 고정이 되있는데 이것도 변경 할 ...   \n",
              "361  2022년 6월 13일  잘사용하고 있어요! 편하고, 포인트모으기도 좋고.(:보안안전에 항상 유의 부탁드립니다!)   \n",
              "362   2022년 1월 1일  잘 되다가 최근부터 내역이 동기화가 바로 안되는거같네요 돈을 옮겼는데 한쪽에만 표시...   \n",
              "\n",
              "                       별점  \n",
              "0    별표 5개 만점에 4개를 받았습니다.  \n",
              "1    별표 5개 만점에 2개를 받았습니다.  \n",
              "2    별표 5개 만점에 5개를 받았습니다.  \n",
              "3    별표 5개 만점에 4개를 받았습니다.  \n",
              "4    별표 5개 만점에 2개를 받았습니다.  \n",
              "..                    ...  \n",
              "358  별표 5개 만점에 5개를 받았습니다.  \n",
              "359  별표 5개 만점에 5개를 받았습니다.  \n",
              "360  별표 5개 만점에 4개를 받았습니다.  \n",
              "361  별표 5개 만점에 5개를 받았습니다.  \n",
              "362  별표 5개 만점에 3개를 받았습니다.  \n",
              "\n",
              "[363 rows x 3 columns]"
            ]
          },
          "execution_count": 103,
          "metadata": {},
          "output_type": "execute_result"
        }
      ],
      "source": [
        "data = pd.DataFrame(data=[], columns=['날짜','리뷰','별점'])\n",
        "#날짜, 리뷰, 별점 수집\n",
        "dates = driver.find_elements(by=By.XPATH, value = '//span[@class=\"bp9Aid\"]')\n",
        "reviews=driver.find_elements(by=By.XPATH, value = '//div[@class=\"h3YV2d\"]')\n",
        "stargrades = driver.find_elements(by=By.XPATH, value = '//div[@class=\"iXRFPc\"]')\n",
        "\n",
        "\n",
        "# k개의 리뷰를 수집합니다.\n",
        "for i in range(len(reviews)):\n",
        "    tmp = []\n",
        "    tmp.append(dates[i].text)\n",
        "    tmp.append(reviews[i].text)\n",
        "    tmp.append(stargrades[i].get_attribute('aria-label'))\n",
        "\n",
        "    tmp = pd.DataFrame(data=[tmp], columns = data.columns)\n",
        "    data = pd.concat([data,tmp])\n",
        "    \n",
        "print(\"토스 앱 리뷰 수집 완료\")\n",
        "\n",
        "\n",
        "data.reset_index(inplace=True, drop=True)\n",
        "data"
      ]
    },
    {
      "cell_type": "code",
      "execution_count": null,
      "metadata": {
        "id": "d_sDcuBFJYaa",
        "outputId": "f8ffb796-ee77-4925-97c0-63cb3217e040"
      },
      "outputs": [
        {
          "data": {
            "text/plain": [
              "0      4\n",
              "1      2\n",
              "2      5\n",
              "3      4\n",
              "4      2\n",
              "      ..\n",
              "358    5\n",
              "359    5\n",
              "360    4\n",
              "361    5\n",
              "362    3\n",
              "Name: 별점, Length: 363, dtype: object"
            ]
          },
          "execution_count": 106,
          "metadata": {},
          "output_type": "execute_result"
        }
      ],
      "source": [
        "tmp = data.copy()\n",
        "\n",
        "tmp['별점'] = tmp['별점'].apply(lambda x : x[5:])\n",
        "\n",
        "m = re.compile('[0-9][\\.0-9]*')\n",
        "\n",
        "tmp['별점'] = tmp['별점'].apply(lambda x : m.findall(x)[0])\n",
        "tmp['별점']"
      ]
    },
    {
      "cell_type": "code",
      "execution_count": null,
      "metadata": {
        "id": "djkWz_IgT9AE"
      },
      "outputs": [],
      "source": [
        "#별점 type변환\n",
        "tmp.별점 = tmp.별점.astype(float)\n",
        "#별점 나누기\n",
        "tmp_low=tmp[tmp['별점']<=3]\n",
        "tmp_high=tmp[tmp['별점']>3]"
      ]
    },
    {
      "cell_type": "code",
      "execution_count": null,
      "metadata": {
        "id": "QPZX73uP0u6n",
        "outputId": "20457c14-7552-40a3-c056-2f22c00dae75"
      },
      "outputs": [
        {
          "data": {
            "text/html": [
              "<div>\n",
              "<style scoped>\n",
              "    .dataframe tbody tr th:only-of-type {\n",
              "        vertical-align: middle;\n",
              "    }\n",
              "\n",
              "    .dataframe tbody tr th {\n",
              "        vertical-align: top;\n",
              "    }\n",
              "\n",
              "    .dataframe thead th {\n",
              "        text-align: right;\n",
              "    }\n",
              "</style>\n",
              "<table border=\"1\" class=\"dataframe\">\n",
              "  <thead>\n",
              "    <tr style=\"text-align: right;\">\n",
              "      <th></th>\n",
              "      <th>날짜</th>\n",
              "      <th>리뷰</th>\n",
              "      <th>별점</th>\n",
              "    </tr>\n",
              "  </thead>\n",
              "  <tbody>\n",
              "    <tr>\n",
              "      <th>1</th>\n",
              "      <td></td>\n",
              "      <td></td>\n",
              "      <td>2.0</td>\n",
              "    </tr>\n",
              "    <tr>\n",
              "      <th>4</th>\n",
              "      <td>2022년 3월 23일</td>\n",
              "      <td>한국에서 이용하다가 해외 거주자라 다시 돌아왔는데요. 폰번호 해지되서 이용이 안됐어...</td>\n",
              "      <td>2.0</td>\n",
              "    </tr>\n",
              "    <tr>\n",
              "      <th>7</th>\n",
              "      <td>2022년 6월 2일</td>\n",
              "      <td>토스 포인트 미션을 자주 하는 편인데요... 어느 순간부터 미션을 바꿔도 바뀌는게 ...</td>\n",
              "      <td>3.0</td>\n",
              "    </tr>\n",
              "    <tr>\n",
              "      <th>12</th>\n",
              "      <td>2022년 5월 31일</td>\n",
              "      <td>미션하고 리워드 지급이 안되는 경우가 있던데 문의해보니 이전에 이미 한참 전에 완료...</td>\n",
              "      <td>2.0</td>\n",
              "    </tr>\n",
              "    <tr>\n",
              "      <th>18</th>\n",
              "      <td>2022년 4월 6일</td>\n",
              "      <td>기변하고 앱을 새로 등록하는 과정에서 정보를 입력 하라길래 앱을 변경한 기기에서 다...</td>\n",
              "      <td>1.0</td>\n",
              "    </tr>\n",
              "    <tr>\n",
              "      <th>...</th>\n",
              "      <td>...</td>\n",
              "      <td>...</td>\n",
              "      <td>...</td>\n",
              "    </tr>\n",
              "    <tr>\n",
              "      <th>352</th>\n",
              "      <td>2022년 2월 4일</td>\n",
              "      <td>왜 갑자기 저금통 시스템이 없어졌나요? 저축위해서 저금통 편하게 잘쓰고 있었는데 몇...</td>\n",
              "      <td>1.0</td>\n",
              "    </tr>\n",
              "    <tr>\n",
              "      <th>353</th>\n",
              "      <td>2022년 1월 2일</td>\n",
              "      <td>토스 잘 사용 중에 있는대요. 배터리가 너무 잘 소진돼서 배터리 문제인가 싶어 교체...</td>\n",
              "      <td>3.0</td>\n",
              "    </tr>\n",
              "    <tr>\n",
              "      <th>354</th>\n",
              "      <td>2022년 1월 3일</td>\n",
              "      <td>솔직히 업데이트.이후 버그 같은게 많아졋습니다. ATM기로 입금후에 토스를 보면 인...</td>\n",
              "      <td>3.0</td>\n",
              "    </tr>\n",
              "    <tr>\n",
              "      <th>357</th>\n",
              "      <td>2020년 2월 3일</td>\n",
              "      <td>토스는 기본에 충실했으면 좋겠다는 생각이 듭니다. 충실하게 개발하셨다면 그 기능들을...</td>\n",
              "      <td>1.0</td>\n",
              "    </tr>\n",
              "    <tr>\n",
              "      <th>362</th>\n",
              "      <td>2022년 1월 1일</td>\n",
              "      <td>잘 되다가 최근부터 내역이 동기화가 바로 안되는거같네요 돈을 옮겼는데 한쪽에만 표시...</td>\n",
              "      <td>3.0</td>\n",
              "    </tr>\n",
              "  </tbody>\n",
              "</table>\n",
              "<p>136 rows × 3 columns</p>\n",
              "</div>"
            ],
            "text/plain": [
              "               날짜                                                 리뷰   별점\n",
              "1                                                                     2.0\n",
              "4    2022년 3월 23일  한국에서 이용하다가 해외 거주자라 다시 돌아왔는데요. 폰번호 해지되서 이용이 안됐어...  2.0\n",
              "7     2022년 6월 2일  토스 포인트 미션을 자주 하는 편인데요... 어느 순간부터 미션을 바꿔도 바뀌는게 ...  3.0\n",
              "12   2022년 5월 31일  미션하고 리워드 지급이 안되는 경우가 있던데 문의해보니 이전에 이미 한참 전에 완료...  2.0\n",
              "18    2022년 4월 6일  기변하고 앱을 새로 등록하는 과정에서 정보를 입력 하라길래 앱을 변경한 기기에서 다...  1.0\n",
              "..            ...                                                ...  ...\n",
              "352   2022년 2월 4일  왜 갑자기 저금통 시스템이 없어졌나요? 저축위해서 저금통 편하게 잘쓰고 있었는데 몇...  1.0\n",
              "353   2022년 1월 2일  토스 잘 사용 중에 있는대요. 배터리가 너무 잘 소진돼서 배터리 문제인가 싶어 교체...  3.0\n",
              "354   2022년 1월 3일  솔직히 업데이트.이후 버그 같은게 많아졋습니다. ATM기로 입금후에 토스를 보면 인...  3.0\n",
              "357   2020년 2월 3일  토스는 기본에 충실했으면 좋겠다는 생각이 듭니다. 충실하게 개발하셨다면 그 기능들을...  1.0\n",
              "362   2022년 1월 1일  잘 되다가 최근부터 내역이 동기화가 바로 안되는거같네요 돈을 옮겼는데 한쪽에만 표시...  3.0\n",
              "\n",
              "[136 rows x 3 columns]"
            ]
          },
          "execution_count": 108,
          "metadata": {},
          "output_type": "execute_result"
        }
      ],
      "source": [
        "toss_review_high = tmp_high['리뷰']\n",
        "print(toss_review_high)\n",
        "toss_review_high.to_csv('토스리뷰_상위.txt', index = False)\n",
        "\n",
        "toss_review_low = tmp_low['리뷰']\n",
        "print(toss_review_low)\n",
        "toss_review_low.to_csv('토스리뷰_하위.txt', index = False)"
      ]
    },
    {
      "cell_type": "code",
      "execution_count": null,
      "metadata": {
        "id": "hGt9fFbx0u6n"
      },
      "outputs": [],
      "source": [
        ""
      ]
    }
  ],
  "metadata": {
    "colab": {
      "collapsed_sections": [],
      "name": "TossCrawling.ipynb",
      "provenance": []
    },
    "kernelspec": {
      "display_name": "Python 3",
      "language": "python",
      "name": "python3"
    },
    "language_info": {
      "codemirror_mode": {
        "name": "ipython",
        "version": 3
      },
      "file_extension": ".py",
      "mimetype": "text/x-python",
      "name": "python",
      "nbconvert_exporter": "python",
      "pygments_lexer": "ipython3",
      "version": "3.8.5"
    }
  },
  "nbformat": 4,
  "nbformat_minor": 0
}